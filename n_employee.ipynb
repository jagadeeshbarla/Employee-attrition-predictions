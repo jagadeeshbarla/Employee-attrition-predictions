{
 "cells": [
  {
   "cell_type": "code",
   "execution_count": 1,
   "id": "aa652769",
   "metadata": {},
   "outputs": [],
   "source": [
    "#Importing the libraries\n",
    "import numpy as np\n",
    "import matplotlib.pyplot as plt\n",
    "%matplotlib inline\n",
    "import pandas as pd\n",
    "import seaborn as sns\n",
    "from imblearn.over_sampling import SMOTE\n",
    "import pickle\n",
    "import warnings\n",
    "warnings.filterwarnings('ignore')"
   ]
  },
  {
   "cell_type": "code",
   "execution_count": 18,
   "id": "f2a5ea7a",
   "metadata": {},
   "outputs": [],
   "source": [
    "from sklearn.svm import SVC\n",
    "from sklearn.ensemble import RandomForestClassifier\n",
    "from sklearn.naive_bayes import GaussianNB\n",
    "from sklearn.linear_model import LogisticRegression\n",
    "from sklearn.neighbors import KNeighborsClassifier\n",
    "from sklearn.ensemble import StackingClassifier\n",
    "from sklearn.metrics import confusion_matrix, accuracy_score ,classification_report"
   ]
  },
  {
   "cell_type": "code",
   "execution_count": 3,
   "id": "2ede15c5",
   "metadata": {
    "scrolled": true
   },
   "outputs": [
    {
     "data": {
      "text/html": [
       "<div>\n",
       "<style scoped>\n",
       "    .dataframe tbody tr th:only-of-type {\n",
       "        vertical-align: middle;\n",
       "    }\n",
       "\n",
       "    .dataframe tbody tr th {\n",
       "        vertical-align: top;\n",
       "    }\n",
       "\n",
       "    .dataframe thead th {\n",
       "        text-align: right;\n",
       "    }\n",
       "</style>\n",
       "<table border=\"1\" class=\"dataframe\">\n",
       "  <thead>\n",
       "    <tr style=\"text-align: right;\">\n",
       "      <th></th>\n",
       "      <th>Age</th>\n",
       "      <th>Attrition</th>\n",
       "      <th>BusinessTravel</th>\n",
       "      <th>DailyRate</th>\n",
       "      <th>Department</th>\n",
       "      <th>DistanceFromHome</th>\n",
       "      <th>Education</th>\n",
       "      <th>EducationField</th>\n",
       "      <th>EmployeeCount</th>\n",
       "      <th>EmployeeNumber</th>\n",
       "      <th>...</th>\n",
       "      <th>RelationshipSatisfaction</th>\n",
       "      <th>StandardHours</th>\n",
       "      <th>StockOptionLevel</th>\n",
       "      <th>TotalWorkingYears</th>\n",
       "      <th>TrainingTimesLastYear</th>\n",
       "      <th>WorkLifeBalance</th>\n",
       "      <th>YearsAtCompany</th>\n",
       "      <th>YearsInCurrentRole</th>\n",
       "      <th>YearsSinceLastPromotion</th>\n",
       "      <th>YearsWithCurrManager</th>\n",
       "    </tr>\n",
       "  </thead>\n",
       "  <tbody>\n",
       "    <tr>\n",
       "      <th>0</th>\n",
       "      <td>41</td>\n",
       "      <td>Yes</td>\n",
       "      <td>Travel_Rarely</td>\n",
       "      <td>1102</td>\n",
       "      <td>Sales</td>\n",
       "      <td>1</td>\n",
       "      <td>2</td>\n",
       "      <td>Life Sciences</td>\n",
       "      <td>1</td>\n",
       "      <td>1</td>\n",
       "      <td>...</td>\n",
       "      <td>1</td>\n",
       "      <td>80</td>\n",
       "      <td>0</td>\n",
       "      <td>8</td>\n",
       "      <td>0</td>\n",
       "      <td>1</td>\n",
       "      <td>6</td>\n",
       "      <td>4</td>\n",
       "      <td>0</td>\n",
       "      <td>5</td>\n",
       "    </tr>\n",
       "    <tr>\n",
       "      <th>1</th>\n",
       "      <td>49</td>\n",
       "      <td>No</td>\n",
       "      <td>Travel_Frequently</td>\n",
       "      <td>279</td>\n",
       "      <td>Research &amp; Development</td>\n",
       "      <td>8</td>\n",
       "      <td>1</td>\n",
       "      <td>Life Sciences</td>\n",
       "      <td>1</td>\n",
       "      <td>2</td>\n",
       "      <td>...</td>\n",
       "      <td>4</td>\n",
       "      <td>80</td>\n",
       "      <td>1</td>\n",
       "      <td>10</td>\n",
       "      <td>3</td>\n",
       "      <td>3</td>\n",
       "      <td>10</td>\n",
       "      <td>7</td>\n",
       "      <td>1</td>\n",
       "      <td>7</td>\n",
       "    </tr>\n",
       "    <tr>\n",
       "      <th>2</th>\n",
       "      <td>37</td>\n",
       "      <td>Yes</td>\n",
       "      <td>Travel_Rarely</td>\n",
       "      <td>1373</td>\n",
       "      <td>Research &amp; Development</td>\n",
       "      <td>2</td>\n",
       "      <td>2</td>\n",
       "      <td>Other</td>\n",
       "      <td>1</td>\n",
       "      <td>4</td>\n",
       "      <td>...</td>\n",
       "      <td>2</td>\n",
       "      <td>80</td>\n",
       "      <td>0</td>\n",
       "      <td>7</td>\n",
       "      <td>3</td>\n",
       "      <td>3</td>\n",
       "      <td>0</td>\n",
       "      <td>0</td>\n",
       "      <td>0</td>\n",
       "      <td>0</td>\n",
       "    </tr>\n",
       "    <tr>\n",
       "      <th>3</th>\n",
       "      <td>33</td>\n",
       "      <td>No</td>\n",
       "      <td>Travel_Frequently</td>\n",
       "      <td>1392</td>\n",
       "      <td>Research &amp; Development</td>\n",
       "      <td>3</td>\n",
       "      <td>4</td>\n",
       "      <td>Life Sciences</td>\n",
       "      <td>1</td>\n",
       "      <td>5</td>\n",
       "      <td>...</td>\n",
       "      <td>3</td>\n",
       "      <td>80</td>\n",
       "      <td>0</td>\n",
       "      <td>8</td>\n",
       "      <td>3</td>\n",
       "      <td>3</td>\n",
       "      <td>8</td>\n",
       "      <td>7</td>\n",
       "      <td>3</td>\n",
       "      <td>0</td>\n",
       "    </tr>\n",
       "    <tr>\n",
       "      <th>4</th>\n",
       "      <td>27</td>\n",
       "      <td>No</td>\n",
       "      <td>Travel_Rarely</td>\n",
       "      <td>591</td>\n",
       "      <td>Research &amp; Development</td>\n",
       "      <td>2</td>\n",
       "      <td>1</td>\n",
       "      <td>Medical</td>\n",
       "      <td>1</td>\n",
       "      <td>7</td>\n",
       "      <td>...</td>\n",
       "      <td>4</td>\n",
       "      <td>80</td>\n",
       "      <td>1</td>\n",
       "      <td>6</td>\n",
       "      <td>3</td>\n",
       "      <td>3</td>\n",
       "      <td>2</td>\n",
       "      <td>2</td>\n",
       "      <td>2</td>\n",
       "      <td>2</td>\n",
       "    </tr>\n",
       "    <tr>\n",
       "      <th>5</th>\n",
       "      <td>32</td>\n",
       "      <td>No</td>\n",
       "      <td>Travel_Frequently</td>\n",
       "      <td>1005</td>\n",
       "      <td>Research &amp; Development</td>\n",
       "      <td>2</td>\n",
       "      <td>2</td>\n",
       "      <td>Life Sciences</td>\n",
       "      <td>1</td>\n",
       "      <td>8</td>\n",
       "      <td>...</td>\n",
       "      <td>3</td>\n",
       "      <td>80</td>\n",
       "      <td>0</td>\n",
       "      <td>8</td>\n",
       "      <td>2</td>\n",
       "      <td>2</td>\n",
       "      <td>7</td>\n",
       "      <td>7</td>\n",
       "      <td>3</td>\n",
       "      <td>6</td>\n",
       "    </tr>\n",
       "    <tr>\n",
       "      <th>6</th>\n",
       "      <td>59</td>\n",
       "      <td>No</td>\n",
       "      <td>Travel_Rarely</td>\n",
       "      <td>1324</td>\n",
       "      <td>Research &amp; Development</td>\n",
       "      <td>3</td>\n",
       "      <td>3</td>\n",
       "      <td>Medical</td>\n",
       "      <td>1</td>\n",
       "      <td>10</td>\n",
       "      <td>...</td>\n",
       "      <td>1</td>\n",
       "      <td>80</td>\n",
       "      <td>3</td>\n",
       "      <td>12</td>\n",
       "      <td>3</td>\n",
       "      <td>2</td>\n",
       "      <td>1</td>\n",
       "      <td>0</td>\n",
       "      <td>0</td>\n",
       "      <td>0</td>\n",
       "    </tr>\n",
       "  </tbody>\n",
       "</table>\n",
       "<p>7 rows × 35 columns</p>\n",
       "</div>"
      ],
      "text/plain": [
       "   Age Attrition     BusinessTravel  DailyRate              Department  \\\n",
       "0   41       Yes      Travel_Rarely       1102                   Sales   \n",
       "1   49        No  Travel_Frequently        279  Research & Development   \n",
       "2   37       Yes      Travel_Rarely       1373  Research & Development   \n",
       "3   33        No  Travel_Frequently       1392  Research & Development   \n",
       "4   27        No      Travel_Rarely        591  Research & Development   \n",
       "5   32        No  Travel_Frequently       1005  Research & Development   \n",
       "6   59        No      Travel_Rarely       1324  Research & Development   \n",
       "\n",
       "   DistanceFromHome  Education EducationField  EmployeeCount  EmployeeNumber  \\\n",
       "0                 1          2  Life Sciences              1               1   \n",
       "1                 8          1  Life Sciences              1               2   \n",
       "2                 2          2          Other              1               4   \n",
       "3                 3          4  Life Sciences              1               5   \n",
       "4                 2          1        Medical              1               7   \n",
       "5                 2          2  Life Sciences              1               8   \n",
       "6                 3          3        Medical              1              10   \n",
       "\n",
       "   ...  RelationshipSatisfaction StandardHours  StockOptionLevel  \\\n",
       "0  ...                         1            80                 0   \n",
       "1  ...                         4            80                 1   \n",
       "2  ...                         2            80                 0   \n",
       "3  ...                         3            80                 0   \n",
       "4  ...                         4            80                 1   \n",
       "5  ...                         3            80                 0   \n",
       "6  ...                         1            80                 3   \n",
       "\n",
       "   TotalWorkingYears  TrainingTimesLastYear WorkLifeBalance  YearsAtCompany  \\\n",
       "0                  8                      0               1               6   \n",
       "1                 10                      3               3              10   \n",
       "2                  7                      3               3               0   \n",
       "3                  8                      3               3               8   \n",
       "4                  6                      3               3               2   \n",
       "5                  8                      2               2               7   \n",
       "6                 12                      3               2               1   \n",
       "\n",
       "  YearsInCurrentRole  YearsSinceLastPromotion  YearsWithCurrManager  \n",
       "0                  4                        0                     5  \n",
       "1                  7                        1                     7  \n",
       "2                  0                        0                     0  \n",
       "3                  7                        3                     0  \n",
       "4                  2                        2                     2  \n",
       "5                  7                        3                     6  \n",
       "6                  0                        0                     0  \n",
       "\n",
       "[7 rows x 35 columns]"
      ]
     },
     "execution_count": 3,
     "metadata": {},
     "output_type": "execute_result"
    }
   ],
   "source": [
    "#Importing the dataset\n",
    "df = pd.read_csv('WA_Fn-UseC_-HR-Employee-Attrition.csv')\n",
    "df.head(7)"
   ]
  },
  {
   "cell_type": "code",
   "execution_count": null,
   "id": "74140e1c",
   "metadata": {},
   "outputs": [],
   "source": [
    "#Shape of the dataframe\n",
    "df.shape"
   ]
  },
  {
   "cell_type": "code",
   "execution_count": null,
   "id": "971263b1",
   "metadata": {},
   "outputs": [],
   "source": [
    "#Datatypes of the attributes \n",
    "df.dtypes"
   ]
  },
  {
   "cell_type": "code",
   "execution_count": null,
   "id": "8e018758",
   "metadata": {},
   "outputs": [],
   "source": [
    "df.isna().sum()"
   ]
  },
  {
   "cell_type": "code",
   "execution_count": null,
   "id": "67584850",
   "metadata": {},
   "outputs": [],
   "source": [
    "df.describe()"
   ]
  },
  {
   "cell_type": "code",
   "execution_count": null,
   "id": "84b0073f",
   "metadata": {},
   "outputs": [],
   "source": [
    "df['Age'].describe()[1]"
   ]
  },
  {
   "cell_type": "code",
   "execution_count": 4,
   "id": "543ba8f3",
   "metadata": {},
   "outputs": [],
   "source": [
    "df['Attrition_result']=df[\"Attrition\"]\n",
    "df=df.drop('Attrition',axis=1)"
   ]
  },
  {
   "cell_type": "code",
   "execution_count": null,
   "id": "ab1e2b27",
   "metadata": {},
   "outputs": [],
   "source": []
  },
  {
   "cell_type": "code",
   "execution_count": null,
   "id": "3b14c9ab",
   "metadata": {},
   "outputs": [],
   "source": [
    "#Data distribution analysis of Attrition_result\n",
    "df['Attrition_result'].value_counts()"
   ]
  },
  {
   "cell_type": "code",
   "execution_count": null,
   "id": "82cf8bed",
   "metadata": {},
   "outputs": [],
   "source": [
    "#Data distribution visualization\n",
    "sns.countplot(df['Attrition_result'])"
   ]
  },
  {
   "cell_type": "code",
   "execution_count": null,
   "id": "7722581b",
   "metadata": {},
   "outputs": [],
   "source": [
    "plt.subplots(figsize=(12,4))\n",
    "sns.countplot(x='Age',hue='Attrition_result',data=df,palette='colorblind');"
   ]
  },
  {
   "cell_type": "code",
   "execution_count": null,
   "id": "9bc54b7d",
   "metadata": {},
   "outputs": [],
   "source": [
    "for column in df.columns:\n",
    "    if df[column].dtype ==object:\n",
    "        print(str(column)+' : '+str(df[column].unique())+' : '+str(len(df[column].unique())))\n",
    "        print(df[column].value_counts())\n",
    "        sns.countplot(df[column])\n",
    "        plt.show()\n",
    "        print(\"------------------------------------------------------------------------\")"
   ]
  },
  {
   "cell_type": "code",
   "execution_count": null,
   "id": "bafd1f50",
   "metadata": {},
   "outputs": [],
   "source": [
    "print(len(df['EmployeeNumber'].unique()))"
   ]
  },
  {
   "cell_type": "code",
   "execution_count": null,
   "id": "0ce54c52",
   "metadata": {},
   "outputs": [],
   "source": [
    "print(len(df['StandardHours'].unique()))"
   ]
  },
  {
   "cell_type": "code",
   "execution_count": null,
   "id": "3f1db15c",
   "metadata": {},
   "outputs": [],
   "source": [
    "df['EmployeeCount'].unique()"
   ]
  },
  {
   "cell_type": "code",
   "execution_count": 5,
   "id": "079568ce",
   "metadata": {},
   "outputs": [],
   "source": [
    "#Dropping the unnecessary attributes\n",
    "df = df.drop('Over18',axis =1)\n",
    "df = df.drop('EmployeeNumber',axis=1)\n",
    "df = df.drop('StandardHours',axis=1)\n",
    "df = df.drop('EmployeeCount',axis=1)"
   ]
  },
  {
   "cell_type": "code",
   "execution_count": null,
   "id": "630499f0",
   "metadata": {},
   "outputs": [],
   "source": [
    "#Visualization of corelation between attribute in the dataset through heatmaps\n",
    "plt.figure(figsize=(15,15))\n",
    "sns.heatmap(df.corr(),annot=True,fmt='.0%')"
   ]
  },
  {
   "cell_type": "code",
   "execution_count": 6,
   "id": "634df12f",
   "metadata": {},
   "outputs": [],
   "source": [
    "#df = df.drop('PerformanceRating')\n",
    "df = df.drop('BusinessTravel',axis=1)"
   ]
  },
  {
   "cell_type": "code",
   "execution_count": 7,
   "id": "3c51b263",
   "metadata": {},
   "outputs": [],
   "source": [
    "#Data Transformation\n",
    "#converting string into  binary number format using Label Encoder\n",
    "from sklearn.preprocessing import LabelEncoder\n",
    "for c in df.columns:\n",
    "    if df[c].dtype == np.number:\n",
    "        continue\n",
    "    df[c] = LabelEncoder().fit_transform(df[c])"
   ]
  },
  {
   "cell_type": "code",
   "execution_count": null,
   "id": "bd6d74fa",
   "metadata": {},
   "outputs": [],
   "source": [
    "#sns.pairplot(df,hue=\"Attrition_result\")"
   ]
  },
  {
   "cell_type": "code",
   "execution_count": null,
   "id": "d4a9f2ad",
   "metadata": {},
   "outputs": [],
   "source": [
    "#print(df)"
   ]
  },
  {
   "cell_type": "code",
   "execution_count": 8,
   "id": "e9dc3c72",
   "metadata": {},
   "outputs": [],
   "source": [
    "#splitting the data into dependent and independent variables \n",
    "x=df.iloc[:,:-1].values\n",
    "y=df.iloc[:,-1].values"
   ]
  },
  {
   "cell_type": "code",
   "execution_count": 9,
   "id": "323f566f",
   "metadata": {},
   "outputs": [],
   "source": [
    "smote =SMOTE(sampling_strategy='minority')\n",
    "x_sm,y_sm = smote.fit_resample(x,y)"
   ]
  },
  {
   "cell_type": "code",
   "execution_count": 10,
   "id": "ccde8bf6",
   "metadata": {},
   "outputs": [],
   "source": [
    "#Splitting the dataset into the Training set and Test set\n",
    "from sklearn.model_selection import train_test_split\n",
    "x_train, x_test, y_train, y_test = train_test_split(x_sm, y_sm, test_size = 0.25, random_state = 0,stratify=y_sm)"
   ]
  },
  {
   "cell_type": "code",
   "execution_count": null,
   "id": "80139f9c",
   "metadata": {},
   "outputs": [],
   "source": [
    "#visualizing the data to find out outliers\n",
    "pos=1\n",
    "fig = plt.figure(figsize=(20,90))\n",
    "for i,var in enumerate(df):\n",
    "    ax = fig.add_subplot(18,3,pos)\n",
    "    pos+=1\n",
    "    sns.boxplot(df[var],ax=ax)"
   ]
  },
  {
   "cell_type": "code",
   "execution_count": null,
   "id": "6a6b3a4a",
   "metadata": {},
   "outputs": [],
   "source": [
    "#visualizing the data to find out the skewness of the attributes\n",
    "pos = 1\n",
    "fig = plt.figure(figsize=(20,75))\n",
    "for i,var in enumerate(df):\n",
    "    ax = fig.add_subplot(18,3,pos)\n",
    "    pos = pos + 1\n",
    "    sns.distplot(df[var],ax=ax)"
   ]
  },
  {
   "cell_type": "code",
   "execution_count": 11,
   "id": "8300ad58",
   "metadata": {},
   "outputs": [],
   "source": [
    "#Feature Scaling\n",
    "#standardization\n",
    "from sklearn.preprocessing import StandardScaler\n",
    "sc = StandardScaler()\n",
    "x_train = sc.fit_transform(x_train)\n",
    "x_test = sc.transform(x_test)"
   ]
  },
  {
   "cell_type": "code",
   "execution_count": 12,
   "id": "85ac8601",
   "metadata": {},
   "outputs": [
    {
     "name": "stdout",
     "output_type": "stream",
     "text": [
      "[[ 1.04310457 -1.52436168 -2.35510927 ... -1.04057563 -0.66083046\n",
      "  -0.13006755]\n",
      " [-0.82781731 -1.66606851 -0.39357907 ... -0.44802117  0.64843879\n",
      "   0.4674353 ]\n",
      " [-1.26803422 -0.46358486  1.56795112 ... -1.04057563 -0.66083046\n",
      "  -1.02632182]\n",
      " ...\n",
      " [ 0.60288766 -0.32187803  1.56795112 ...  1.03336499 -0.66083046\n",
      "   1.06493814]\n",
      " [-0.93787154  1.65796878 -0.39357907 ... -0.7442984  -0.66083046\n",
      "  -0.72757039]\n",
      " [ 0.3827792   1.40694526  1.56795112 ...  2.21847392  0.9757561\n",
      "   1.66244099]]\n"
     ]
    }
   ],
   "source": [
    "print(x_train)"
   ]
  },
  {
   "cell_type": "code",
   "execution_count": 13,
   "id": "88141398",
   "metadata": {},
   "outputs": [
    {
     "name": "stdout",
     "output_type": "stream",
     "text": [
      "[0 1 1 ... 0 1 0]\n"
     ]
    }
   ],
   "source": [
    "print(y_train)"
   ]
  },
  {
   "cell_type": "code",
   "execution_count": null,
   "id": "0afab82b",
   "metadata": {},
   "outputs": [],
   "source": [
    "#Logistic_regression\n",
    "c_lr = LogisticRegression(random_state = 0)\n",
    "c_lr.fit(x_train, y_train)\n",
    "y_lr_pred = c_lr.predict(x_test)\n",
    "cm = confusion_matrix(y_test, y_lr_pred)\n",
    "print(accuracy_score(y_test, y_lr_pred))\n",
    "print(classification_report(y_test, y_lr_pred))"
   ]
  },
  {
   "cell_type": "code",
   "execution_count": null,
   "id": "da244262",
   "metadata": {},
   "outputs": [],
   "source": [
    "#KNN\n",
    "c_kn = KNeighborsClassifier(n_neighbors = 7, metric = 'minkowski', p = 2)\n",
    "c_kn.fit(x_train, y_train)\n",
    "y_k_pred = c_kn.predict(x_test)\n",
    "cm = confusion_matrix(y_test, y_k_pred)\n",
    "print(cm)\n",
    "print(accuracy_score(y_test, y_k_pred))\n",
    "print(classification_report(y_test, y_k_pred))"
   ]
  },
  {
   "cell_type": "code",
   "execution_count": null,
   "id": "208cad51",
   "metadata": {},
   "outputs": [],
   "source": [
    "#Random forest\n",
    "forest =RandomForestClassifier(n_estimators=20,criterion='entropy', random_state=0)\n",
    "forest.fit(x_train,y_train)\n",
    "forest.score(x_train,y_train)\n",
    "y_rf_pred=forest.predict(x_test)\n",
    "cm_rf = confusion_matrix(y_test, y_rf_pred)\n",
    "print(cm_rf)\n",
    "print(accuracy_score(y_test, y_rf_pred))\n",
    "print(classification_report(y_test, y_rf_pred))"
   ]
  },
  {
   "cell_type": "code",
   "execution_count": null,
   "id": "2b0867f7",
   "metadata": {},
   "outputs": [],
   "source": [
    "#svm\n",
    "c_svm = SVC(kernel = 'rbf', random_state = 0)\n",
    "c_svm.fit(x_train, y_train)\n",
    "y_svm_pred = c_svm.predict(x_test)\n",
    "cm_svm = confusion_matrix(y_test, y_svm_pred)\n",
    "print(cm_svm)\n",
    "print(accuracy_score(y_test, y_svm_pred))\n",
    "print(classification_report(y_test, y_svm_pred))"
   ]
  },
  {
   "cell_type": "code",
   "execution_count": null,
   "id": "09db81f8",
   "metadata": {},
   "outputs": [],
   "source": [
    "#naive bayes\n",
    "c_nb = GaussianNB()\n",
    "c_nb.fit(x_train, y_train)\n",
    "y_nb_pred = c_nb.predict(x_test)\n",
    "y_nb_pred\n",
    "cm_nb = confusion_matrix(y_test, y_nb_pred)\n",
    "print(cm_nb)\n",
    "print(accuracy_score(y_test, y_nb_pred))\n",
    "print(classification_report(y_test, y_svm_pred))"
   ]
  },
  {
   "cell_type": "code",
   "execution_count": null,
   "id": "aafe7688",
   "metadata": {},
   "outputs": [],
   "source": [
    "#final_result_majority voting\n",
    "i=0\n",
    "final = y_svm_pred\n",
    "while i<len(y_nb_pred):\n",
    "    s = 0\n",
    "    s = y_svm_pred[i]+y_rf_pred[i]+y_lr_pred[i]\n",
    "    if s>=2:\n",
    "        final[i] = 1\n",
    "    else:\n",
    "        final[i] = 0\n",
    "    i+=1\n",
    "cm_nb = confusion_matrix(y_test, final)\n",
    "print(cm_nb)\n",
    "print(accuracy_score(y_test, final))\n",
    "print(classification_report(y_test, y_svm_pred))"
   ]
  },
  {
   "cell_type": "code",
   "execution_count": 19,
   "id": "a84f942b",
   "metadata": {},
   "outputs": [
    {
     "name": "stdout",
     "output_type": "stream",
     "text": [
      "[[284  25]\n",
      " [ 32 276]]\n",
      "0.9076175040518638\n",
      "              precision    recall  f1-score   support\n",
      "\n",
      "           0       0.90      0.92      0.91       309\n",
      "           1       0.92      0.90      0.91       308\n",
      "\n",
      "    accuracy                           0.91       617\n",
      "   macro avg       0.91      0.91      0.91       617\n",
      "weighted avg       0.91      0.91      0.91       617\n",
      "\n"
     ]
    }
   ],
   "source": [
    "#final_result_stacking\n",
    "clf = [\n",
    "            ('svm',SVC(kernel = 'rbf', random_state = 0)),\n",
    "            ('rfc',RandomForestClassifier(n_estimators=20,criterion='entropy', random_state=0) ),\n",
    "            ('c_kn',KNeighborsClassifier(n_neighbors = 7, metric = 'minkowski', p = 2))\n",
    "      ] \n",
    "lr = LogisticRegression()\n",
    "stack_model = StackingClassifier( estimators = clf,final_estimator = lr)\n",
    "stack_model.fit(x_train, y_train)\n",
    "stack_model_pred = stack_model.predict(x_test)\n",
    "stack_model_pred\n",
    "cm_stack_model = confusion_matrix(y_test, stack_model_pred)\n",
    "print(cm_stack_model)\n",
    "print(accuracy_score(y_test, stack_model_pred))\n",
    "print(classification_report(y_test, stack_model_pred))"
   ]
  },
  {
   "cell_type": "code",
   "execution_count": null,
   "id": "25b45539",
   "metadata": {},
   "outputs": [],
   "source": []
  }
 ],
 "metadata": {
  "kernelspec": {
   "display_name": "Python 3 (ipykernel)",
   "language": "python",
   "name": "python3"
  },
  "language_info": {
   "codemirror_mode": {
    "name": "ipython",
    "version": 3
   },
   "file_extension": ".py",
   "mimetype": "text/x-python",
   "name": "python",
   "nbconvert_exporter": "python",
   "pygments_lexer": "ipython3",
   "version": "3.9.12"
  }
 },
 "nbformat": 4,
 "nbformat_minor": 5
}
